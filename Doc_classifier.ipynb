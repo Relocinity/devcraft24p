{
 "cells": [
  {
   "cell_type": "markdown",
   "source": [
    "## **DEVCRAFT 24**\n",
    "\n",
    "### **Project Analysis**\n",
    "1. **Dataset Acquiration**\n",
    "2. **Pdf DataConversion**\n",
    "3. **Word Vectorisation**\n",
    "4. **ANN Training**\n",
    "5. **Prediction**"
   ],
   "metadata": {
    "collapsed": false
   },
   "id": "c95bcf907df9171e"
  },
  {
   "cell_type": "code",
   "execution_count": 3,
   "id": "initial_id",
   "metadata": {
    "collapsed": true,
    "ExecuteTime": {
     "end_time": "2024-02-09T09:56:18.178495700Z",
     "start_time": "2024-02-09T09:56:12.828311300Z"
    }
   },
   "outputs": [
    {
     "name": "stdout",
     "output_type": "stream",
     "text": [
      "Requirement already satisfied: tensorflow in e:\\college\\journey\\aims\\devcraft24\\venv\\lib\\site-packages (from -r requirements.txt (line 1)) (2.15.0)\n",
      "Requirement already satisfied: numpy in e:\\college\\journey\\aims\\devcraft24\\venv\\lib\\site-packages (from -r requirements.txt (line 2)) (1.26.4)\n",
      "Requirement already satisfied: pandas in e:\\college\\journey\\aims\\devcraft24\\venv\\lib\\site-packages (from -r requirements.txt (line 3)) (2.2.0)\n",
      "Requirement already satisfied: PyPDF2 in e:\\college\\journey\\aims\\devcraft24\\venv\\lib\\site-packages (from -r requirements.txt (line 4)) (3.0.1)\n",
      "Requirement already satisfied: tensorflow-intel==2.15.0 in e:\\college\\journey\\aims\\devcraft24\\venv\\lib\\site-packages (from tensorflow->-r requirements.txt (line 1)) (2.15.0)\n",
      "Requirement already satisfied: absl-py>=1.0.0 in e:\\college\\journey\\aims\\devcraft24\\venv\\lib\\site-packages (from tensorflow-intel==2.15.0->tensorflow->-r requirements.txt (line 1)) (2.1.0)\n",
      "Requirement already satisfied: astunparse>=1.6.0 in e:\\college\\journey\\aims\\devcraft24\\venv\\lib\\site-packages (from tensorflow-intel==2.15.0->tensorflow->-r requirements.txt (line 1)) (1.6.3)\n",
      "Requirement already satisfied: flatbuffers>=23.5.26 in e:\\college\\journey\\aims\\devcraft24\\venv\\lib\\site-packages (from tensorflow-intel==2.15.0->tensorflow->-r requirements.txt (line 1)) (23.5.26)\n",
      "Requirement already satisfied: gast!=0.5.0,!=0.5.1,!=0.5.2,>=0.2.1 in e:\\college\\journey\\aims\\devcraft24\\venv\\lib\\site-packages (from tensorflow-intel==2.15.0->tensorflow->-r requirements.txt (line 1)) (0.5.4)\n",
      "Requirement already satisfied: google-pasta>=0.1.1 in e:\\college\\journey\\aims\\devcraft24\\venv\\lib\\site-packages (from tensorflow-intel==2.15.0->tensorflow->-r requirements.txt (line 1)) (0.2.0)\n",
      "Requirement already satisfied: h5py>=2.9.0 in e:\\college\\journey\\aims\\devcraft24\\venv\\lib\\site-packages (from tensorflow-intel==2.15.0->tensorflow->-r requirements.txt (line 1)) (3.10.0)\n",
      "Requirement already satisfied: libclang>=13.0.0 in e:\\college\\journey\\aims\\devcraft24\\venv\\lib\\site-packages (from tensorflow-intel==2.15.0->tensorflow->-r requirements.txt (line 1)) (16.0.6)\n",
      "Requirement already satisfied: ml-dtypes~=0.2.0 in e:\\college\\journey\\aims\\devcraft24\\venv\\lib\\site-packages (from tensorflow-intel==2.15.0->tensorflow->-r requirements.txt (line 1)) (0.2.0)\n",
      "Requirement already satisfied: opt-einsum>=2.3.2 in e:\\college\\journey\\aims\\devcraft24\\venv\\lib\\site-packages (from tensorflow-intel==2.15.0->tensorflow->-r requirements.txt (line 1)) (3.3.0)\n",
      "Requirement already satisfied: packaging in e:\\college\\journey\\aims\\devcraft24\\venv\\lib\\site-packages (from tensorflow-intel==2.15.0->tensorflow->-r requirements.txt (line 1)) (23.2)\n",
      "Requirement already satisfied: protobuf!=4.21.0,!=4.21.1,!=4.21.2,!=4.21.3,!=4.21.4,!=4.21.5,<5.0.0dev,>=3.20.3 in e:\\college\\journey\\aims\\devcraft24\\venv\\lib\\site-packages (from tensorflow-intel==2.15.0->tensorflow->-r requirements.txt (line 1)) (4.23.4)\n",
      "Requirement already satisfied: setuptools in e:\\college\\journey\\aims\\devcraft24\\venv\\lib\\site-packages (from tensorflow-intel==2.15.0->tensorflow->-r requirements.txt (line 1)) (68.2.0)\n",
      "Requirement already satisfied: six>=1.12.0 in e:\\college\\journey\\aims\\devcraft24\\venv\\lib\\site-packages (from tensorflow-intel==2.15.0->tensorflow->-r requirements.txt (line 1)) (1.16.0)\n",
      "Requirement already satisfied: termcolor>=1.1.0 in e:\\college\\journey\\aims\\devcraft24\\venv\\lib\\site-packages (from tensorflow-intel==2.15.0->tensorflow->-r requirements.txt (line 1)) (2.4.0)\n",
      "Requirement already satisfied: typing-extensions>=3.6.6 in e:\\college\\journey\\aims\\devcraft24\\venv\\lib\\site-packages (from tensorflow-intel==2.15.0->tensorflow->-r requirements.txt (line 1)) (4.9.0)\n",
      "Requirement already satisfied: wrapt<1.15,>=1.11.0 in e:\\college\\journey\\aims\\devcraft24\\venv\\lib\\site-packages (from tensorflow-intel==2.15.0->tensorflow->-r requirements.txt (line 1)) (1.14.1)\n",
      "Requirement already satisfied: tensorflow-io-gcs-filesystem>=0.23.1 in e:\\college\\journey\\aims\\devcraft24\\venv\\lib\\site-packages (from tensorflow-intel==2.15.0->tensorflow->-r requirements.txt (line 1)) (0.31.0)\n",
      "Requirement already satisfied: grpcio<2.0,>=1.24.3 in e:\\college\\journey\\aims\\devcraft24\\venv\\lib\\site-packages (from tensorflow-intel==2.15.0->tensorflow->-r requirements.txt (line 1)) (1.60.1)\n",
      "Requirement already satisfied: tensorboard<2.16,>=2.15 in e:\\college\\journey\\aims\\devcraft24\\venv\\lib\\site-packages (from tensorflow-intel==2.15.0->tensorflow->-r requirements.txt (line 1)) (2.15.1)\n",
      "Requirement already satisfied: tensorflow-estimator<2.16,>=2.15.0 in e:\\college\\journey\\aims\\devcraft24\\venv\\lib\\site-packages (from tensorflow-intel==2.15.0->tensorflow->-r requirements.txt (line 1)) (2.15.0)\n",
      "Requirement already satisfied: keras<2.16,>=2.15.0 in e:\\college\\journey\\aims\\devcraft24\\venv\\lib\\site-packages (from tensorflow-intel==2.15.0->tensorflow->-r requirements.txt (line 1)) (2.15.0)\n",
      "Requirement already satisfied: python-dateutil>=2.8.2 in e:\\college\\journey\\aims\\devcraft24\\venv\\lib\\site-packages (from pandas->-r requirements.txt (line 3)) (2.8.2)\n",
      "Requirement already satisfied: pytz>=2020.1 in e:\\college\\journey\\aims\\devcraft24\\venv\\lib\\site-packages (from pandas->-r requirements.txt (line 3)) (2024.1)\n",
      "Requirement already satisfied: tzdata>=2022.7 in e:\\college\\journey\\aims\\devcraft24\\venv\\lib\\site-packages (from pandas->-r requirements.txt (line 3)) (2023.4)\n",
      "Requirement already satisfied: wheel<1.0,>=0.23.0 in e:\\college\\journey\\aims\\devcraft24\\venv\\lib\\site-packages (from astunparse>=1.6.0->tensorflow-intel==2.15.0->tensorflow->-r requirements.txt (line 1)) (0.41.2)\n",
      "Requirement already satisfied: google-auth<3,>=1.6.3 in e:\\college\\journey\\aims\\devcraft24\\venv\\lib\\site-packages (from tensorboard<2.16,>=2.15->tensorflow-intel==2.15.0->tensorflow->-r requirements.txt (line 1)) (2.27.0)\n",
      "Requirement already satisfied: google-auth-oauthlib<2,>=0.5 in e:\\college\\journey\\aims\\devcraft24\\venv\\lib\\site-packages (from tensorboard<2.16,>=2.15->tensorflow-intel==2.15.0->tensorflow->-r requirements.txt (line 1)) (1.2.0)\n",
      "Requirement already satisfied: markdown>=2.6.8 in e:\\college\\journey\\aims\\devcraft24\\venv\\lib\\site-packages (from tensorboard<2.16,>=2.15->tensorflow-intel==2.15.0->tensorflow->-r requirements.txt (line 1)) (3.5.2)\n",
      "Requirement already satisfied: requests<3,>=2.21.0 in e:\\college\\journey\\aims\\devcraft24\\venv\\lib\\site-packages (from tensorboard<2.16,>=2.15->tensorflow-intel==2.15.0->tensorflow->-r requirements.txt (line 1)) (2.31.0)\n",
      "Requirement already satisfied: tensorboard-data-server<0.8.0,>=0.7.0 in e:\\college\\journey\\aims\\devcraft24\\venv\\lib\\site-packages (from tensorboard<2.16,>=2.15->tensorflow-intel==2.15.0->tensorflow->-r requirements.txt (line 1)) (0.7.2)\n",
      "Requirement already satisfied: werkzeug>=1.0.1 in e:\\college\\journey\\aims\\devcraft24\\venv\\lib\\site-packages (from tensorboard<2.16,>=2.15->tensorflow-intel==2.15.0->tensorflow->-r requirements.txt (line 1)) (3.0.1)\n",
      "Requirement already satisfied: cachetools<6.0,>=2.0.0 in e:\\college\\journey\\aims\\devcraft24\\venv\\lib\\site-packages (from google-auth<3,>=1.6.3->tensorboard<2.16,>=2.15->tensorflow-intel==2.15.0->tensorflow->-r requirements.txt (line 1)) (5.3.2)\n",
      "Requirement already satisfied: pyasn1-modules>=0.2.1 in e:\\college\\journey\\aims\\devcraft24\\venv\\lib\\site-packages (from google-auth<3,>=1.6.3->tensorboard<2.16,>=2.15->tensorflow-intel==2.15.0->tensorflow->-r requirements.txt (line 1)) (0.3.0)\n",
      "Requirement already satisfied: rsa<5,>=3.1.4 in e:\\college\\journey\\aims\\devcraft24\\venv\\lib\\site-packages (from google-auth<3,>=1.6.3->tensorboard<2.16,>=2.15->tensorflow-intel==2.15.0->tensorflow->-r requirements.txt (line 1)) (4.9)\n",
      "Requirement already satisfied: requests-oauthlib>=0.7.0 in e:\\college\\journey\\aims\\devcraft24\\venv\\lib\\site-packages (from google-auth-oauthlib<2,>=0.5->tensorboard<2.16,>=2.15->tensorflow-intel==2.15.0->tensorflow->-r requirements.txt (line 1)) (1.3.1)\n",
      "Requirement already satisfied: importlib-metadata>=4.4 in e:\\college\\journey\\aims\\devcraft24\\venv\\lib\\site-packages (from markdown>=2.6.8->tensorboard<2.16,>=2.15->tensorflow-intel==2.15.0->tensorflow->-r requirements.txt (line 1)) (7.0.1)\n",
      "Requirement already satisfied: charset-normalizer<4,>=2 in e:\\college\\journey\\aims\\devcraft24\\venv\\lib\\site-packages (from requests<3,>=2.21.0->tensorboard<2.16,>=2.15->tensorflow-intel==2.15.0->tensorflow->-r requirements.txt (line 1)) (3.3.2)\n",
      "Requirement already satisfied: idna<4,>=2.5 in e:\\college\\journey\\aims\\devcraft24\\venv\\lib\\site-packages (from requests<3,>=2.21.0->tensorboard<2.16,>=2.15->tensorflow-intel==2.15.0->tensorflow->-r requirements.txt (line 1)) (3.6)\n",
      "Requirement already satisfied: urllib3<3,>=1.21.1 in e:\\college\\journey\\aims\\devcraft24\\venv\\lib\\site-packages (from requests<3,>=2.21.0->tensorboard<2.16,>=2.15->tensorflow-intel==2.15.0->tensorflow->-r requirements.txt (line 1)) (2.2.0)\n",
      "Requirement already satisfied: certifi>=2017.4.17 in e:\\college\\journey\\aims\\devcraft24\\venv\\lib\\site-packages (from requests<3,>=2.21.0->tensorboard<2.16,>=2.15->tensorflow-intel==2.15.0->tensorflow->-r requirements.txt (line 1)) (2024.2.2)\n",
      "Requirement already satisfied: MarkupSafe>=2.1.1 in e:\\college\\journey\\aims\\devcraft24\\venv\\lib\\site-packages (from werkzeug>=1.0.1->tensorboard<2.16,>=2.15->tensorflow-intel==2.15.0->tensorflow->-r requirements.txt (line 1)) (2.1.5)\n",
      "Requirement already satisfied: zipp>=0.5 in e:\\college\\journey\\aims\\devcraft24\\venv\\lib\\site-packages (from importlib-metadata>=4.4->markdown>=2.6.8->tensorboard<2.16,>=2.15->tensorflow-intel==2.15.0->tensorflow->-r requirements.txt (line 1)) (3.17.0)\n",
      "Requirement already satisfied: pyasn1<0.6.0,>=0.4.6 in e:\\college\\journey\\aims\\devcraft24\\venv\\lib\\site-packages (from pyasn1-modules>=0.2.1->google-auth<3,>=1.6.3->tensorboard<2.16,>=2.15->tensorflow-intel==2.15.0->tensorflow->-r requirements.txt (line 1)) (0.5.1)\n",
      "Requirement already satisfied: oauthlib>=3.0.0 in e:\\college\\journey\\aims\\devcraft24\\venv\\lib\\site-packages (from requests-oauthlib>=0.7.0->google-auth-oauthlib<2,>=0.5->tensorboard<2.16,>=2.15->tensorflow-intel==2.15.0->tensorflow->-r requirements.txt (line 1)) (3.2.2)\n"
     ]
    }
   ],
   "source": [
    "!pip install -r requirements.txt"
   ]
  },
  {
   "cell_type": "code",
   "outputs": [],
   "source": [
    "import numpy,pandas,tensorflow as tf,os,random\n",
    "from PyPDF2 import PdfReader "
   ],
   "metadata": {
    "collapsed": false,
    "ExecuteTime": {
     "end_time": "2024-02-09T13:29:38.206076500Z",
     "start_time": "2024-02-09T13:29:38.182426100Z"
    }
   },
   "id": "8c48034799c6bb00",
   "execution_count": 45
  },
  {
   "cell_type": "markdown",
   "source": [
    "### Pdf Dataconversion"
   ],
   "metadata": {
    "collapsed": false
   },
   "id": "8109e4ca32eb57fe"
  },
  {
   "cell_type": "code",
   "outputs": [],
   "source": [
    "class Dataset():\n",
    "    \"\"\"\n",
    "    A class that is able to read and process the data from the dataset, parse pdfs, extract features and classify them into dictionaries\n",
    "    Input Params: Dataset path\n",
    "    Output attibutes: \n",
    "    self.classes\n",
    "    self.data\n",
    "    \"\"\"\n",
    "    def __init__(self,foldername,validation_split=0,subset=None,seed=0):\n",
    "        self._foldername = foldername\n",
    "        self._get_classes(foldername)\n",
    "        self._get_data()\n",
    "        \n",
    "    def _get_classes(self,foldername):\n",
    "        dirs_n_file_test = os.listdir(foldername+\"/test\")\n",
    "        dirs_n_file_train = os.listdir(foldername+\"/train\")\n",
    "        dirtest = [elem for elem in dirs_n_file_test if os.path.isdir(foldername+\"/test/\"+elem)]\n",
    "        dirtrain =[elem for elem in dirs_n_file_train if os.path.isdir(foldername+\"/train/\"+elem)]\n",
    "        self._classes = [dirtrain==dirtest,dirtrain]\n",
    "    def _show_classes(self):\n",
    "        if self._classes[0] == 1:\n",
    "            return f\"{len(self._classes[1])} classes identified : {self._classes[1]}\"\n",
    "        else:\n",
    "            return f\"Train Test Mismatch. Train Classes Showing : {self._classes[1]}\"\n",
    "    classes = property(fget=_show_classes)\n",
    "    \n",
    "    def _get_data(self):\n",
    "        self.data = []\n",
    "        for rootdir in ['train','test']:\n",
    "            classdata= {}\n",
    "            for classfolder in os.listdir(self._foldername+\"/\"+rootdir):\n",
    "                for files in os.listdir(self._foldername+\"/\"+rootdir+\"/\"+classfolder):\n",
    "                    if files.endswith(\".pdf\"):\n",
    "                        read_dat = PdfReader(self._foldername+\"/\"+rootdir+\"/\"+classfolder+\"/\"+files)\n",
    "                        pages = read_dat.pages\n",
    "                        dat = \"\".join([page.extract_text() for page in pages])\n",
    "                        if classfolder not in classdata:\n",
    "                            classdata[classfolder] = [dat]\n",
    "                        else:\n",
    "                            classdata[classfolder].append(dat)\n",
    "                # print(classdata)\n",
    "            self.data.append(classdata)\n",
    "            \n",
    "f = Dataset(\"Dataset\")"
   ],
   "metadata": {
    "collapsed": false,
    "ExecuteTime": {
     "end_time": "2024-02-09T13:31:56.472336700Z",
     "start_time": "2024-02-09T13:31:55.863795100Z"
    }
   },
   "id": "52f9fbcaab184125",
   "execution_count": 56
  },
  {
   "cell_type": "code",
   "outputs": [
    {
     "data": {
      "text/plain": "\"10 classes identified : ['business', 'creative', 'educational', 'financial', 'government', 'legal', 'medical', 'news', 'research', 'technical']\""
     },
     "execution_count": 53,
     "metadata": {},
     "output_type": "execute_result"
    }
   ],
   "source": [
    "f.classes"
   ],
   "metadata": {
    "collapsed": false,
    "ExecuteTime": {
     "end_time": "2024-02-09T13:31:03.826935Z",
     "start_time": "2024-02-09T13:31:03.816918100Z"
    }
   },
   "id": "64ae35980433c975",
   "execution_count": 53
  },
  {
   "cell_type": "code",
   "outputs": [
    {
     "data": {
      "text/plain": "({'business': [\"Hostel Allotment Form\\nAcademic Year 2023-2024\\nPersonal Details Academic Details\\nRoll No. 230310262233 Course B.Tech\\nFirst Name Ujjwal Middle Name\\nLast Name Kakar Reg No./Roll No. 230310262233\\nEmail ujjwalkakar2005@gmail.com Branch CO\\nGender male Apply for Hostel Year 1\\nMobile No. 7503839579 No. of Back Paper 0\\nAllotment Priority Stay in School Last School New Era Public School\\nDistance 17 Year of Admission 2023\\nBlood Group B+ SGPA NA\\nRegion Delhi Chronic Problems\\nHostel Rollno\\nRoom Preferences Details\\nPreference1 ac_triple Preference2 nonac_double\\nPreference3 nonac_single Preference4. nonac_triple\\nParent Details\\nFather Details Mother Details\\nFather Name Puneet Kakar Mother Name Seema Kakar\\nFather Mobile No. 9810056624 Mother Mobile No. 7982413418\\nFather Email a1medicos@yahoo.com Mother Email sepuujso0407@gmail.com\\nFather Occupation Self-Employed Mother Occupation Teacher\\nFather Designation Pharmacist Mother Designation TGT-English\\nFather Office Address Shop No. 6, DDA Market, Pocket 3, Paschim Puri, Ne Mother Office Address SKV Naraina, C Block, Naraina Vihar, New Delhi - 110028\\nFather Office No. 9810056624 Mother Office No. 7982413418\\nBank Details\\nBank Account No. 606310110008734 Account Holder Name Ujjwal Kakar\\nBank Name Bank Of India Bank IFSC BKID0006063\\nBank Branch Punjabi Bagh Bank Address 22 NW A CLUB ROAD, PUNJABI BAGH EXTENSION,NEW DELHI\\nHome Address Permanent Address\\nAddress M-53, Ground Floor, Rajouri Garden Address M-53, Ground Floor, Rajouri Garden\\nCity New Delhi City New Delhi \\nState Delhi State Delhi\\nCountry India Country India\\nPincode 110027 Pincode 110027\\nLocal Guardian Details\\nName Address\\nContact Email\\nOccupation\\nStudent SignatureTerms & Conditions :\\n1. No hostel resident is allowed to keep any motorized vehicle in the University, However, bicycles are permitted for local/\\ninternal transport within DTU campus. Disciplinary action including fine and expulsion will be imposed on the defaulters.\\nIn this regard an affidavit shall be submitted duly signed by student and his/her parents on a non-judicial stamp of Rs. 10/-\\n2. After the allotment of the room the allottee will be held responsible for any damage in his/her room, and the allottee\\nshall bear the cost of damage as decided by the warden and Hostel Office.\\n3. The day scholar has to take prior permission from the Warden & have to submit the fees before staying with someone in the\\nhostel and such permission shall be approved by the Hostel Office atleast two days before the requested date of stay.\\n4. The accommodation in the hostels will be provided as per the academic calendar declared by the DTU administration/Dean\\nAcademics.Every student shall have to vacate the hostel within a week of his/her last end semester examination every year.\\nEach year a new allotement applicaion is to be submitted.\\n5. If any student tries to influence the DTU hostel administration through any means his/her candidature will stand\\ncancelled and the decision of the hostel office in such matters will be final.\\n6. Day scholars are not allowed to stay with any hosteller without prior permission, if any day scholar is found staying \\nwith the hosteller in his/her room without prior permission of warden & Hostel Office, the allotment of such hosteller will be\\nimmediately cancelled without any notice and such candidates will not be considered for future hostel allotment.\\n7. Hostel office reserves all the rights for allotment, cancellation & rejection of hostel allotment applications.\\nIn this regard the authority of Hostel Office/administration is final.\\nI Certify:\\n1. That I shall vacate my room within a week of last examination in each year.\\n2. That I shall abide the rules and regulations of University Hostels and the University and shall conduct in a manner worthy of\\nbeing a student of DTU and shall never indulge in indiscipline/voilence.\\n3. That the information furnished by me is true to the best of my knowledge and belief. If any information found wrong my\\nadmission may be cancelled.\\n4. That I shall be responsible for any damage/loss of inventories from the allotted room\\n5. That I shall seek permission from my hostel warden before leaving the hostel and I shall also enter my name into the register before leaving the hostel.\\n6. That I will stay in hostel for minimum 75% of working days failing which my hostel allotment may be cancelled.\\n7. That I along with my parents have noted the hostel timings mentioned in hostel information bulletin and have no objection to\\nthe hostel timings.\\nParent Signature Student SignatureUNDERTAKINGS BY THE PARENTS AND STUDENT\\n1. Undertaking of awareness of medical facilities at University Health Centre by Parent/ Guardian I ___________________\\nfather/mother/guardian of Mr./Ms _______________________ Entry No. _______________ hereby declare the following in \\nrespect of my ward to be admitted to B.Tech./B.Design/B.A./M.Tech./MBA/MSc./Ph.D. degree programme of study at\\nDelhi Technological University [DTU], Delhi.\\nI am aware of the following facts:\\n(i)    The University Health Centre [UHC] located in the campus and run by University for its community has limited facilities.\\n(ii)   The UHC may not be adequate for treatment of any patient with chronic or serious ailments.\\n(iii)  It is the responsibility of the guardians to take care of their wards for outside treatment.\\n(iv)   Each student would be provided limited health insurance through a professional company. However, dealing with that\\n       company regarding health insurance formalities would be entirely the student's responsibility. University would not be \\n       responsible for any dispute/discrepancy.\\nDespite the best efforts on the part of DTU if any untoward thing happens to my ward, I shall not hold the university \\naccountable for the same and will not seek any financial help or compensation for the same from any court of law.\\nDate Signature of Parent/Guardian\\n2. Undertaking by the student for not owning and/or using motor driven vehicles on DTU campus (for Hostel residents only):\\nI ___________________________________________________ son/daughter/ward of Mr./Ms_________________________\\nEntry No. ____________ hereby give an undertaking that I will not own/drive motor driven vehicle on campus during my stay\\nat DTU. If at any stage, I am found to violate the above undertaking my hostel seat will stand automatically cancelled without \\nassigning any reasons. I also undertake that any visitor bringing a vehicle would follow the direction of hostel security \\nand I would be liable for punishment for any violation on this account.\\nDate Signature of the Student\\nCounter Signature of the Parent/Guardian\"],\n  'educational': ['CS-102: Discrete Structures Tutorial #1 (Pg - 1) CS-102: Discrete Structures Tutorial  #3  \\n \\nSummary  \\nargument   a sequence of statements  \\nargument form   a sequence of compound \\npropositions involving \\npropositional variables  \\npremise   a statement, in an argument, \\nor argument form, other than \\nthe final one  \\nconclusion   the final statement in an \\nargument or argument form  \\nvalid argument \\nform   a sequence of compound \\npropositions involving \\npropositional variables where \\nthe truth of all the premises \\nimplies the truth of the \\nconclusion  \\nvalid argument   an argument with a valid \\nargument form  \\nrule of inference   a valid argument form that can \\nbe used in the demonstration \\nthat arguments are valid  \\nfallacy   an invalid argument form \\noften used incorrectly as a rule \\nof inference (or sometimes, \\nmore generally, an incorrect \\nargument)  \\ncircular reasoning \\nor begging the \\nquestion   reasoning where one or more \\nsteps are based on the truth of \\nthe statement being proved  \\ntheorem   a mathematical assertion that \\ncan be shown to be true  \\nconjecture   a mathematical assertion \\nproposed to be true, but that \\nhas not been proved  \\nproof   a demonstration that a \\ntheorem is true  \\naxiom   a statement that is assumed to \\nbe true and that can be used as \\na basis for proving theorems  \\nlemma   a theorem used to prove other \\ntheorems  \\ncorollary   a proposition that can be \\nproved as a consequence of a \\ntheorem that has just been \\nproved  \\nvacuous proof   a proof that p → q is true \\nbased on the fact that p is false  \\ntrivial proof   a proof that p → q is true \\nbased on the fact that q is true  \\ndirect proof   a proof that p → q is true that \\nproceeds by showing that q \\nmust be true when p is true  \\nproof by \\ncontraposition   a proof that p → q is true that \\nproceeds by showing that p \\nmust be false when q is false  proof by \\ncontradiction   a proof that p is true based on \\nthe truth of the conditional \\nstatement ~p → q, where q is a \\ncontradiction  \\nexhaustive proof   a proof that establishes a \\nresult by checking a list of all \\npossible cases  \\nproof by cases   a proof broken into separate \\ncases, where these cases cover \\nall possibilities  \\nwithout loss of \\ngenerality   an assumption in a proof that \\nmakes it possible to prove a \\ntheorem by reducing the \\nnumber of cases to consider in \\nthe proof  \\ncounterexample   an element x such that P(x) is \\nfalse  \\nconstructive \\nexistence proof   a proof that an element with a \\nspecified property exists that \\nexplicitly finds such an \\nelement  \\nNon-constructive \\nexistence proof   a proof that an element with a \\nspecified property exists that \\ndoes not explicitly find such an \\nelement  \\nFallacy of affirming \\nthe conclusion  an incorrect reasoning in \\nproving p → q by starting with \\nassuming q and proving p  \\nFallacy of denying \\nthe hypothesis  an incorrect reasoning in \\nproving p → q by starting with \\nassuming ~p and proving ~q  \\nFallacy of begging \\nthe question or \\ncircular reasoning  an incorrect reasoning when \\none or more steps of a proof is \\nbased on the statement being \\nproved.  \\nthe principle of \\nmathematical \\ninduction   the statement ∀n P(n) is true if \\nP(1) is true and ∀k[P(k) → P(k \\n+ 1)] is true.  𝑘∈𝑍+. \\n• basis step  Establish that P(1) is true.  \\n• inductive \\nstep on the assumption that P(k) is \\ntrue for an arbitrary k, P(k) → \\nP(k + 1 ) for all positive \\nintegers k; ∴  ∀nP(n)  \\nstrong induction   the statement ∀nP (n) is true if \\nP(1) is true and ∀k[(P (1) ∧ · · \\n· ∧ P(k)) → P(k + 1)] is true  \\nrecursive definition \\nof a function   a definition of a function that \\nspecifies an initial set of values \\nand a rule for obtaining values \\nof this function at integers \\nfrom its values at smaller \\nintegers  CS-102: Discrete Structures Tutorial #1 (Pg - 2) recursive definition \\nof a set   a definition of a set that \\nspecifies an initial set of \\nelements in the set and a rule \\nfor obtaining other elements \\nfrom those in the set  \\nstructural induction   a technique for proving results \\nabout recursively defined sets  \\nrecursive algorithm   an algorithm that proceeds by \\nreducing a problem to the same \\nproblem with smaller input  \\nlinear homogeneous \\nrecurrence relation \\nwith constant \\ncoefficients   a recurrence relation that \\nexpresses the terms of a \\nsequence, except initial terms, \\nas a linear combination of \\nprevious terms  \\ncharacteristic roots \\nof a linear \\nhomogeneous \\nrecurrence relation \\nwith constant \\ncoefficients   the roots of the polynomial \\nassociated with a linear \\nhomogeneous recurrence \\nrelation with constant \\ncoefficients  \\nlinear non -\\nhomogeneous \\nrecurrence relation \\nwith constant \\ncoefficients   a recurrence relation that \\nexpresses the terms of a \\nsequence, except for initial \\nterms, as a linear combination \\nof previous terms plus a \\nfunction that is not identically \\nzero that depends only on the \\nindex  \\ndivide -and-conquer \\nalgorithm   an algorithm that solves a \\nproblem recursively by \\nsplitting it into a fixed number \\nof smaller non -overlapping \\nsub-problems of the same type  \\n \\nRules of Inference  for Propositional Logic  \\nRule  Tautology  Name  \\np \\np → q \\n∴ q \\n (p ∧ (p → q)) → q  Modus ponens  \\nOr Mode that affirms  \\n~q \\np → q \\n∴ ~p \\n (~q ∧ (p → q))→~p  Modus tollens  \\np → q  \\nq → r  \\n∴ p → r  \\n [(p → q) ∧ (q → r)] → \\n(p → r)  Hypothetical \\nsyllogism  \\np ∨ q \\n~p \\n∴ q \\n [(p ∨ q)  ∧~p] → q  Disjunctive syllogism  \\np \\n∴ p ∨ q  \\n p → (p ∨ q)  Addition  \\np ∧ q \\n∴ p  \\n (p ∧ q) → p  Simplification  \\np  \\nq  \\n∴ p ∧ r \\n [(p)∧(q)] → (p ∧ q)  Conjunction  \\np ∨ q \\n~p ∨ r \\n∴ q ∨ r  \\n [(p ∨ q) ∧ (~p ∨ r)] → \\n(q ∨ r)  Resolution  \\n Rules of Inference for Quantified Statements  \\nRule  Name  \\n∀xP(x)  \\n∴ P(c) \\n Universal instantiation  \\nP(c) for an arbitrary  c \\n∴ ∀xP(x)  \\n Universal generalization  \\n∃xP(x)  \\n∴ P(c) for some element c  \\n Existential instantiation  \\nP(c) for some element c  \\n∴ ∃xP(x)  \\n Existential generalization  \\n \\nLogical Equivalences involving Universal and Existential \\nquantifiers  \\n∼(∀𝑥𝑃(𝑥))≡∃𝑥∼𝑃(𝑥)  ∼(∃𝑥𝑃(𝑥))≡  \\n∀𝑥(∼𝑃(𝑥)) \\n∃𝑥(𝑃(𝑥)→𝑄(𝑥))≡  \\n∀𝑥𝑃(𝑥)→∃𝑥𝑄(𝑥) ∃𝑥(𝑃(𝑥)∨𝑄(𝑥))≡  \\n∃𝑥𝑃(𝑥)∨∃𝑥𝑄(𝑥) \\n∀𝑥 (𝑃(𝑥)∧𝑄(𝑥))≡ ∀𝑥𝑃(𝑥)∧∀𝑥𝑄(𝑥) \\n((∀𝑥𝑃(𝑥))∨(∀𝑥𝑄(𝑥)))→∀𝑥(𝑃(𝑥)∨𝑄(𝑥)) is a tautology.  \\n∃𝑥(𝑃(𝑥)∧𝑄(𝑥))→∃𝑥𝑃(𝑥)∧∃𝑥𝑄(𝑥) is a tautology.  \\n \\nExamples of Tautologies  \\n(𝑝∧𝑞)→𝑝  (𝑝∧𝑞)→𝑞   \\n𝑝→(𝑝∨𝑞)   𝑞→(𝑝∨𝑞)   \\n∼𝑝→(𝑝→𝑞)   ∼(𝑝→𝑞)→𝑝    \\n(𝑝∧(𝑝→𝑞))→𝑞   (∼𝑝∧(𝑝∨𝑞))→𝑞   \\n(∼𝑞∧(𝑝→𝑞))→∼𝑝   ((𝑝→𝑞)∧(𝑞→𝑟))→(𝑝→𝑟)   \\n \\nTemplate for Proofs by Mathematical Induction  \\n1. Express the statement that is to be proved in the form \\n“∀ 𝑛 ≥ 𝑏,𝑃(𝑛)” for a given  integer b. \\n2. Explicitly indicate the “Basic Step” and “Inductive \\nSteps”.  \\n3. In the “Basis Step” establish  that 𝑃(𝑏) is true, taking \\ncare that the correct value of b is used. This completes the \\nfirst part of the proof.  \\n4. In the  “Inductive Step”, state and clearly identify, the \\ninductive hypothesis, in the form “assume 𝑡ℎ𝑎𝑡 𝑃(𝑘) is \\ntrue for an arbitrary integer 𝑘 ≥ 𝑏.” \\n5. State what needs to be proved under the assumption that \\nthe inductive hypothesis is true. That is, write out what \\n𝑃(𝑘 + 1) says.  \\n6. Prove the statement 𝑃(𝑘 + 1) making use the \\nassumption   𝑃(𝑘). Ensure that the proof is valid for all \\nintegers 𝑘 with  𝑘 ≥ 𝑏, taking care that the proof works \\nfor small values of 𝑘, including 𝑘 = 𝑏. \\n7. Clearly identify the conclusion of the inductive step, by \\nstating  “𝑡ℎ𝑖𝑠 𝑐𝑜𝑚𝑝𝑙𝑒𝑡𝑒𝑠  𝑡ℎ𝑒 𝑖𝑛𝑑𝑢𝑐𝑡𝑖𝑣𝑒  𝑠𝑡𝑒𝑝 .” \\n8. After completing the basis step and the inductive step, \\nstate the conclusion, namely that by mathematical \\ninduction, 𝑃(𝑛) is true for all integers n with n ≥ b. \\n \\n \\n \\n \\n \\n \\n \\n \\n CS-102: Discrete Structures Tutorial #1 (Pg - 3) Rules of Inference  \\n1. What rule of inference is used in each of these \\narguments?  \\na) Kangaroos live in Australia and are marsupials. \\nTherefore, kangaroos are marsupials.  \\nb) It is hotter than 45°C today or the pollution is \\ndangerous. It is less than 45°C outside today. \\nTherefore, the pollution is dangerous.  \\nc) Vijay is an excellent swimmer. If Vijay is an \\nexcellent swimmer, then he can work as a lifeguard. \\nTherefore,  Vijay can work as a lifeguard.  \\nd) Shiva will work at a grocery store  this summer. \\nTherefore, this summer Shiva will work at a grocery \\nstore  or he will spend his time at the Goa Beach . \\ne) If I work all night on this homework, then I can \\nanswer all the exercises. If I answer all the exercises, I \\nwill understand the content of the course CO -205. \\nTherefore, if I work all night on this homework, then I \\nwill understand the content of the course CO -205. \\n \\n2. For each of these sets of premises, what relevant \\nconclusion or conclusions can be drawn? State the rules of \\ninference used to obtain each conclusion from the \\npremises.  \\na) “If I play hockey, then I am sore the next day.” “I \\nuse the whirlpool if I am sore.” “I did not use the \\nwhirlpool.”  \\nb) “If I work, it is either sunny or partly sunny.” “I \\nworked last Monday or I worked last Friday.” “It was \\nnot sunny on Tuesday.” “It was not partly sunny on \\nFriday.”  \\nc) “All insects have six legs.” “Dragonflies are insects.” \\n“Spiders do not have six legs.” “Spiders eat \\ndragonflies.”  \\nd) “Every student has an Internet account.” “Henry \\ndoes not have an Internet account.” “M amta  has an \\nInternet account.”  \\ne) “All foods that are healthy to eat do not taste good.” \\n“Bitter -gourd is healthy to eat.” “You only eat what \\ntastes good.” “You do not eat bitter -gourd.” \\n“Cheeseburgers are not healthy to eat.”  \\nf ) “I am either dreaming or hallucinating.” “I am not \\ndreaming.” “If I am hallucinating, I see elephants \\nrunning  down the road.”   \\n \\n3. Show that the argument form with premises (p ∧ t) → \\n(r ∨ s), q → (u ∧ t), u → p, q and ~s and conclusion  r is \\nvalid.   \\n \\n3.1. Show that the argument form with premises (𝑝 ∧\\n 𝑡) →(𝑟 ∨ 𝑠), 𝑞 → (𝑢 ∧ 𝑡), 𝑢 → 𝑝, and ~𝑠 and \\nconclusion  𝑞 → 𝑟 is valid  \\n \\n4. Confirm  the validity of each of these arguments (state \\nthe rules of inference are used for each step ). \\na) “Linda, a student in this class, owns a red car. \\nEveryone who owns a red car has got at  least one \\nspeeding ticket. Therefore, someone in this class has \\ngot a speeding ticket.”  b) “There is someone in this class who has been to \\nFrance. Everyone who goes to France visits the  Louvre. \\nTherefore, someone in this class has visited the \\nLouvre.”  \\n \\n5. Determine whether each of these arguments is valid. If \\nan argument is correct, what rule of inference is being \\nused? If it is not, what logical error occurs?  \\na) If n is a real number such that n > 1, then n2 > 1. \\nSuppose that n2 > 1; then,  n > 1. \\nb) If n is a real number with n > 3, then n2 > 9. Suppose \\nthat n2 ≤ 9; then, n ≤ 3. \\nc) If n is a real number with n > 2, then n2 > 4. Suppose \\nthat n ≤ 2; then, n2 ≤ 4. \\n \\n6. Use resolution to show the hypotheses “Allen is a bad \\nboy or Hillary is a good girl” and “Allen is a good boy or \\nDavid is happy” imply the conclusion “Hillary is a good \\ngirl or David is happy.”  \\n \\n6.1. Based on the following premises about the trip of four \\nfriends to a hill station: - \\nPremise A:  Amit paid for the trip and Bobby paid for the \\nhotel reservations or Charlie paid for everything.  \\nPremise B:  If Charlie paid for everything, then David is \\ngoing on the trip.  \\nCan it be concluded that – “Amit paid for the trip or David \\nis going on the trip”? Justify your answer.  \\n \\n6.2.  Is the following argument valid? Justify your answer.  \\nPremise A: “If the birthday gift is a box of chocolates, then \\nthe child will be happy”.  \\nPremise B: “The child is happy”  \\nTherefore, it can be concluded that “the birthday gift is a \\nbox of chocolates”.  \\n \\n6.3. Test the validity of the following argument:  \\n(a) Babies are illogical  \\n(b) Nobody is despised who can manage a crocodile  \\n(c) Illogical persons are despised  \\nTherefore babies cannot manage crocodiles  \\n \\n6.4 Test the validity of the following argument: - \\n(a) It is not sunny today and it is colder than \\nyesterday.  \\n(b) We will go for swimming only if it is sunny.  \\n(c) If we don’t go for swimming, we will go for a \\ntrekking trip.  \\n(d) If we go out trekking, then we will come home \\nby sunset.  \\nTherefore, it can be concluded that we will be home \\nby sunset.  \\n \\nDirect / Indirect  Proofs  \\n7. Use a direct proof to show that every odd integer is the \\ndifference of two squares.  \\n \\n \\n CS-102: Discrete Structures Tutorial #1 (Pg - 4) 8. Prove or disprove the following: -  \\n(a)  the product of a nonzero rational number and an \\nirrational number is irrational.  \\n(b) if x is rational and x≠0, then 1 /x is rational.  \\n \\n9. Use a proof by contraposition to show that if   𝑥 + 𝑦 ≥\\n 2, where x and y are real numbers, then x ≥ 1 or y ≥ 1. \\n \\n10. Prove that if 𝑚 and 𝑛 are integers and 𝑚𝑛 is even, then \\n𝑚 is even or 𝑛 is even.  \\n \\n11. Show that if 𝑛 is an integer and 𝑛3 + 5 is odd, then n \\nis even using  \\na) a proof by contraposition.  \\nb) a proof by contradiction.  \\n \\n12. Prove the proposition P(0), where P(n) is the \\nproposition “If n is a positive integer greater than 1, then \\nn2 > n.” What kind of proof did you use?  \\n \\n13. Show that if you pick three socks from a drawer \\ncontaining just blue socks and black socks, you must get \\neither  a pair of blue socks or a pair of black socks.  \\n \\n14. Identify the error (s) in this argument that supposedly \\nshows that if ∃xP(x) ∧ ∃xQ(x) is true then  ∃x(P(x) ∧ Q(x)) \\nis true.  \\n1. ∃xP(x) ∨ ∃xQ(x)                  Premise  \\n2. ∃xP(x)                               Simplification from (1)  \\n3. P(c)                     Existential instantiation from (2)  \\n4. ∃xQ(x)                                Simplification from (1)  \\n5. Q(c)                     Existential instantiation from (4)  \\n6. P(c) ∧ Q(c)               Conjunction from (3) and (5)  \\n7. ∃x(P(x) ∧ Q(x))     Existential generalization  of (6)  \\n \\n15. Is this reasoning for finding the solutions of the \\nequation  √2𝑥2−1=𝑥 correct ?  \\n(1) √2𝑥2−1=𝑥 is given;  \\n(2) 2𝑥2− 1 = 𝑥2, obtained by squaring both sides of \\n(1); \\n(3) 𝑥2− 1 = 0, obtained by subtracting 𝑥2 from both  \\nsides of (2);  \\n(4) (x − 1)(x + 1) = 0, obtained by factoring  the left -\\nhand side  of (3)  ;  \\n(5) x = 1 or x = −1, which follows because ab = 0 \\nimplies that a = 0 or  b = 0. \\n \\n16. Find a counterexample to the statement that every \\npositive integer can be written as the sum of the squares of \\nthree integers.   \\n \\n17. Show that these three statements are equivalent, where \\na and b are real numbers: ( i) a is less than b, (ii) the average \\nof a and b is greater than a, and ( iii) the average of a and \\nb is less than b. \\n Proof by Cases , Proof by Exhaustion etc  \\n18. Prove : - \\n(a)  𝑛2 + 1 ≥ 2𝑛 when n is a positive integer with 1 ≤ n \\n≤ 4. \\n(b) the triangle inequality , which states that if x and y are \\nreal numbers, then | x| + |y| ≥ |x + y| (where | x| represents \\nthe absolute value of x, which equals x if x ≥ 0 and equals \\n–x if x < 0). \\n(c) that there atleast  100 consecutive positive integers that \\nare not perfect squares. Is your proof constructive or non -\\nconstructive?  \\n(d) that there exists a pair of consecutive integers such that \\none of these integers is a perfect square and the other is a \\nperfect cube.   \\n(e) that if a, b, and c are real numbers and a≠0, then there \\nis a unique solution of the equation ax + b = c. \\n(f) that there are no solutions in integers x and y to the \\nequation   2𝑥2+ 5𝑦2= 14. \\n \\n19. Prove that m2 = n2 if and only if m = n or m = −n. \\n \\n20. Prove or d isprove that: - \\n(a)  if a and b are rational numbers, then ab is also rational.  \\n(b) if you have an 8 -litre jug of water and two empty jugs \\nwith capacities of 5 litres and 3 litres, respectively, then \\nyou can measure 4 litres by successively pouring some or \\nall of the water in a jug into another jug.   \\n \\n21. Use forward reasoning  (direct proof)  to show that if x \\nis a nonzero real number, then   𝑥2+1\\n𝑥2≥ 2. {Hint: Start \\nwith the inequality (𝑥−1\\n𝑥)2\\n≥ 0 which holds for all \\nnonzero real numbers x.} \\n \\n22. Let T be the transformation that transforms  an even \\ninteger x to 𝑥\\n2   and an odd integer x to 3𝑥 + 1. A famous \\nconjecture, known as the 3x + 1 conjecture  (or Hasse’s \\nAlgorith m), states that for all positive integers x, when we \\nrepeatedly apply the transformation T, we will eventually \\nreach the integer 1.  Verify the 3 x + 1 conjecture for these \\nintegers 6 and 21.  \\n \\nPrinciple of Mathematical Induction  \\n23. Use mathematical induction to prove the summation \\nformulae: - \\n(a) P(n): 12 + 22 +· · ·+ n2 = n(n + 1)(2n + 1)/6 for the \\npositive integer n. \\n(b) P(n): 12+32+52···+(2n+1)2= (n+1)(2n+1)(2n+ 3)/3 for \\na nonnegative  integer n. \\n(c) P(n): 1·1! + 2·2!+· · ·+ n·n! = (n + 1)! – 1 whenever n \\nis a positive integer.  \\n \\n24. Find a formula for 1\\n1.2+1\\n2·3+· · ·+1\\n𝑛(𝑛 + 1) by \\nexamining the values of this expression for small  values of \\nn. \\n \\n25. Prove that 3n<n! if n is an integer greater than 6.  \\n CS-102: Discrete Structures Tutorial #1 (Pg - 5) 26. Prove that 2 divides n2 + n whenever n is a positive \\ninteger.  \\n27. Use mathematical induction to show that given a set of \\nn + 1 positive integers, none exceeding 2 n, there is at least \\none integer in this set that divides another integer in the \\nset. \\nRecursion  \\n28. Determine whether each of these proposed definitions \\nis a valid recursive definition of a function f from the set  \\nof nonnegative integers to the set of integers. If f is well  \\ndefined, find a formula for f (n) when n is a nonnegative  \\ninteger  \\na) f (0) = 0, f (n) = 2f (n − 2) for n ≥ 1 \\nb) f (0) = 1, f (n) = f (n − 1) − 1 for n ≥ 1 \\nc) f (0) = 2, f (1) = 3, f (n) = f (n − 1) − 1 for  n ≥ 2 \\n \\n \\n 29. Give a recursive definition of the sequence { an}, n = \\n1, 2, 3, . . . if \\na) an = 4n − 2.  b) an = 1 + (−1)n. \\nc) an = n(n + 1).  d) an = n2. \\n \\n30. Let F be the function such that F(n) is the sum of the \\nfirst n positive integers. Give a recursive  definition of \\nF(n). \\n \\n31. Solve these recurrence relations :  \\na) an = 2an−1 for n ≥ 1, a0 = 3 \\nb) an = 5an−1 − 6an−2 for n ≥ 2, a0 = 1, a1 = 0 \\nc) an = 4an−2 for n ≥ 2, a0 = 0, a1 = 4 \\nd) 𝑎𝑛=−6𝑎𝑛−1−9𝑎𝑛−2 𝑓𝑜𝑟 𝑛≥2,𝑎0=3,𝑎1=−3 \\ne) 𝑎𝑛+2𝑎𝑛−1+4𝑎𝑛−2=0 𝑓𝑜𝑟 𝑛≥3,𝑎1=1,𝑎2=3 \\nf)  𝑎𝑛=2𝑎𝑛−1−𝑎𝑛−2+2 𝑓𝑜𝑟 𝑛≥3,𝑎1=1,𝑎2=5  \\ng)   𝑎𝑛=𝑎𝑛−1+sin𝑛𝜋\\n2 𝑓𝑜𝑟 𝑛≥2,𝑎1=−1\\n \\n \\n  ']},\n {})"
     },
     "execution_count": 57,
     "metadata": {},
     "output_type": "execute_result"
    }
   ],
   "source": [
    "train , test = f.data\n",
    "train,test"
   ],
   "metadata": {
    "collapsed": false,
    "ExecuteTime": {
     "end_time": "2024-02-09T13:31:58.310417600Z",
     "start_time": "2024-02-09T13:31:58.274272600Z"
    }
   },
   "id": "230cb9d5744065ad",
   "execution_count": 57
  },
  {
   "cell_type": "code",
   "outputs": [],
   "source": [],
   "metadata": {
    "collapsed": false
   },
   "id": "c21d8ebdb9d095cd"
  }
 ],
 "metadata": {
  "kernelspec": {
   "display_name": "Python 3",
   "language": "python",
   "name": "python3"
  },
  "language_info": {
   "codemirror_mode": {
    "name": "ipython",
    "version": 2
   },
   "file_extension": ".py",
   "mimetype": "text/x-python",
   "name": "python",
   "nbconvert_exporter": "python",
   "pygments_lexer": "ipython2",
   "version": "2.7.6"
  }
 },
 "nbformat": 4,
 "nbformat_minor": 5
}
